{
 "cells": [
  {
   "cell_type": "code",
   "execution_count": 1,
   "id": "475ae4e4-5ac7-4ed1-a57d-d11e2823a4e1",
   "metadata": {},
   "outputs": [],
   "source": [
    "import numpy as np\n",
    "import matplotlib.pyplot as plt\n",
    "import pandas as pd\n",
    "import numpy as np\n",
    "import seaborn as sns\n",
    "import statsmodels.formula.api as smf\n",
    "pd.options.mode.chained_assignment = None\n",
    "from sklearn.linear_model import LinearRegression\n",
    "from sklearn.metrics import confusion_matrix"
   ]
  },
  {
   "cell_type": "code",
   "execution_count": 118,
   "id": "28d586f5-845e-4e52-9739-c59929cbcd06",
   "metadata": {},
   "outputs": [
    {
     "data": {
      "text/html": [
       "<div>\n",
       "<style scoped>\n",
       "    .dataframe tbody tr th:only-of-type {\n",
       "        vertical-align: middle;\n",
       "    }\n",
       "\n",
       "    .dataframe tbody tr th {\n",
       "        vertical-align: top;\n",
       "    }\n",
       "\n",
       "    .dataframe thead th {\n",
       "        text-align: right;\n",
       "    }\n",
       "</style>\n",
       "<table border=\"1\" class=\"dataframe\">\n",
       "  <thead>\n",
       "    <tr style=\"text-align: right;\">\n",
       "      <th></th>\n",
       "      <th>age</th>\n",
       "      <th>sex</th>\n",
       "      <th>cp</th>\n",
       "      <th>trtbps</th>\n",
       "      <th>chol</th>\n",
       "      <th>fbs</th>\n",
       "      <th>restecg</th>\n",
       "      <th>thalachh</th>\n",
       "      <th>exng</th>\n",
       "      <th>oldpeak</th>\n",
       "      <th>slp</th>\n",
       "      <th>caa</th>\n",
       "      <th>thall</th>\n",
       "      <th>output</th>\n",
       "    </tr>\n",
       "  </thead>\n",
       "  <tbody>\n",
       "    <tr>\n",
       "      <th>0</th>\n",
       "      <td>63</td>\n",
       "      <td>1</td>\n",
       "      <td>3</td>\n",
       "      <td>145</td>\n",
       "      <td>233</td>\n",
       "      <td>1</td>\n",
       "      <td>0</td>\n",
       "      <td>150</td>\n",
       "      <td>0</td>\n",
       "      <td>2.3</td>\n",
       "      <td>0</td>\n",
       "      <td>0</td>\n",
       "      <td>1</td>\n",
       "      <td>1</td>\n",
       "    </tr>\n",
       "    <tr>\n",
       "      <th>1</th>\n",
       "      <td>37</td>\n",
       "      <td>1</td>\n",
       "      <td>2</td>\n",
       "      <td>130</td>\n",
       "      <td>250</td>\n",
       "      <td>0</td>\n",
       "      <td>1</td>\n",
       "      <td>187</td>\n",
       "      <td>0</td>\n",
       "      <td>3.5</td>\n",
       "      <td>0</td>\n",
       "      <td>0</td>\n",
       "      <td>2</td>\n",
       "      <td>1</td>\n",
       "    </tr>\n",
       "    <tr>\n",
       "      <th>2</th>\n",
       "      <td>41</td>\n",
       "      <td>0</td>\n",
       "      <td>1</td>\n",
       "      <td>130</td>\n",
       "      <td>204</td>\n",
       "      <td>0</td>\n",
       "      <td>0</td>\n",
       "      <td>172</td>\n",
       "      <td>0</td>\n",
       "      <td>1.4</td>\n",
       "      <td>2</td>\n",
       "      <td>0</td>\n",
       "      <td>2</td>\n",
       "      <td>1</td>\n",
       "    </tr>\n",
       "    <tr>\n",
       "      <th>3</th>\n",
       "      <td>56</td>\n",
       "      <td>1</td>\n",
       "      <td>1</td>\n",
       "      <td>120</td>\n",
       "      <td>236</td>\n",
       "      <td>0</td>\n",
       "      <td>1</td>\n",
       "      <td>178</td>\n",
       "      <td>0</td>\n",
       "      <td>0.8</td>\n",
       "      <td>2</td>\n",
       "      <td>0</td>\n",
       "      <td>2</td>\n",
       "      <td>1</td>\n",
       "    </tr>\n",
       "    <tr>\n",
       "      <th>4</th>\n",
       "      <td>57</td>\n",
       "      <td>0</td>\n",
       "      <td>0</td>\n",
       "      <td>120</td>\n",
       "      <td>354</td>\n",
       "      <td>0</td>\n",
       "      <td>1</td>\n",
       "      <td>163</td>\n",
       "      <td>1</td>\n",
       "      <td>0.6</td>\n",
       "      <td>2</td>\n",
       "      <td>0</td>\n",
       "      <td>2</td>\n",
       "      <td>1</td>\n",
       "    </tr>\n",
       "  </tbody>\n",
       "</table>\n",
       "</div>"
      ],
      "text/plain": [
       "   age  sex  cp  trtbps  chol  fbs  restecg  thalachh  exng  oldpeak  slp  \\\n",
       "0   63    1   3     145   233    1        0       150     0      2.3    0   \n",
       "1   37    1   2     130   250    0        1       187     0      3.5    0   \n",
       "2   41    0   1     130   204    0        0       172     0      1.4    2   \n",
       "3   56    1   1     120   236    0        1       178     0      0.8    2   \n",
       "4   57    0   0     120   354    0        1       163     1      0.6    2   \n",
       "\n",
       "   caa  thall  output  \n",
       "0    0      1       1  \n",
       "1    0      2       1  \n",
       "2    0      2       1  \n",
       "3    0      2       1  \n",
       "4    0      2       1  "
      ]
     },
     "execution_count": 118,
     "metadata": {},
     "output_type": "execute_result"
    }
   ],
   "source": [
    "#1.1\n",
    "df = pd.read_csv(\"./data/heart.csv\")\n",
    "df.shape #(303, 14)\n",
    "df.head(5)"
   ]
  },
  {
   "cell_type": "code",
   "execution_count": 119,
   "id": "33f8d1ae-fb82-4354-b0f9-b654e7dcbfce",
   "metadata": {},
   "outputs": [
    {
     "data": {
      "text/plain": [
       "age         0\n",
       "sex         0\n",
       "cp          0\n",
       "trtbps      0\n",
       "chol        0\n",
       "fbs         0\n",
       "restecg     0\n",
       "thalachh    0\n",
       "exng        0\n",
       "oldpeak     0\n",
       "slp         0\n",
       "caa         0\n",
       "thall       0\n",
       "output      0\n",
       "dtype: int64"
      ]
     },
     "execution_count": 119,
     "metadata": {},
     "output_type": "execute_result"
    }
   ],
   "source": [
    "#1.2\n",
    "df.age.min()#29\n",
    "df.age.max()#77\n",
    "df.age.value_counts()\n",
    "df.sex.value_counts()\n",
    "df.trtbps.value_counts()\n",
    "df.chol.value_counts()\n",
    "df.isna().sum()"
   ]
  },
  {
   "cell_type": "code",
   "execution_count": 120,
   "id": "903663f9-81f2-440e-8920-d4884af7b942",
   "metadata": {},
   "outputs": [
    {
     "name": "stdout",
     "output_type": "stream",
     "text": [
      "sex, cp, fbs, restecg, exng, output\n"
     ]
    },
    {
     "data": {
      "text/plain": [
       "Index(['age', 'sex', 'cp', 'trtbps', 'chol', 'fbs', 'restecg', 'thalachh',\n",
       "       'exng', 'oldpeak', 'slp', 'caa', 'thall', 'output'],\n",
       "      dtype='object')"
      ]
     },
     "execution_count": 120,
     "metadata": {},
     "output_type": "execute_result"
    }
   ],
   "source": [
    "#1.3\n",
    "print(\"sex, cp, fbs, restecg, exng, output\")\n",
    "df.columns"
   ]
  },
  {
   "cell_type": "code",
   "execution_count": 121,
   "id": "27adb509-3719-494f-9904-5cd02a603dec",
   "metadata": {},
   "outputs": [
    {
     "data": {
      "text/html": [
       "<div>\n",
       "<style scoped>\n",
       "    .dataframe tbody tr th:only-of-type {\n",
       "        vertical-align: middle;\n",
       "    }\n",
       "\n",
       "    .dataframe tbody tr th {\n",
       "        vertical-align: top;\n",
       "    }\n",
       "\n",
       "    .dataframe thead th {\n",
       "        text-align: right;\n",
       "    }\n",
       "</style>\n",
       "<table border=\"1\" class=\"dataframe\">\n",
       "  <thead>\n",
       "    <tr style=\"text-align: right;\">\n",
       "      <th></th>\n",
       "      <th>age</th>\n",
       "      <th>sex</th>\n",
       "      <th>cp</th>\n",
       "      <th>trtbps</th>\n",
       "      <th>chol</th>\n",
       "      <th>fbs</th>\n",
       "      <th>restecg</th>\n",
       "      <th>thalachh</th>\n",
       "      <th>exng</th>\n",
       "      <th>oldpeak</th>\n",
       "      <th>slp</th>\n",
       "      <th>caa</th>\n",
       "      <th>thall</th>\n",
       "      <th>output</th>\n",
       "    </tr>\n",
       "  </thead>\n",
       "  <tbody>\n",
       "    <tr>\n",
       "      <th>0</th>\n",
       "      <td>63</td>\n",
       "      <td>one</td>\n",
       "      <td>three</td>\n",
       "      <td>145</td>\n",
       "      <td>233</td>\n",
       "      <td>one</td>\n",
       "      <td>zero</td>\n",
       "      <td>150</td>\n",
       "      <td>zero</td>\n",
       "      <td>2.3</td>\n",
       "      <td>0</td>\n",
       "      <td>0</td>\n",
       "      <td>1</td>\n",
       "      <td>1</td>\n",
       "    </tr>\n",
       "    <tr>\n",
       "      <th>1</th>\n",
       "      <td>37</td>\n",
       "      <td>one</td>\n",
       "      <td>two</td>\n",
       "      <td>130</td>\n",
       "      <td>250</td>\n",
       "      <td>zero</td>\n",
       "      <td>one</td>\n",
       "      <td>187</td>\n",
       "      <td>zero</td>\n",
       "      <td>3.5</td>\n",
       "      <td>0</td>\n",
       "      <td>0</td>\n",
       "      <td>2</td>\n",
       "      <td>1</td>\n",
       "    </tr>\n",
       "    <tr>\n",
       "      <th>2</th>\n",
       "      <td>41</td>\n",
       "      <td>zero</td>\n",
       "      <td>one</td>\n",
       "      <td>130</td>\n",
       "      <td>204</td>\n",
       "      <td>zero</td>\n",
       "      <td>zero</td>\n",
       "      <td>172</td>\n",
       "      <td>zero</td>\n",
       "      <td>1.4</td>\n",
       "      <td>2</td>\n",
       "      <td>0</td>\n",
       "      <td>2</td>\n",
       "      <td>1</td>\n",
       "    </tr>\n",
       "    <tr>\n",
       "      <th>3</th>\n",
       "      <td>56</td>\n",
       "      <td>one</td>\n",
       "      <td>one</td>\n",
       "      <td>120</td>\n",
       "      <td>236</td>\n",
       "      <td>zero</td>\n",
       "      <td>one</td>\n",
       "      <td>178</td>\n",
       "      <td>zero</td>\n",
       "      <td>0.8</td>\n",
       "      <td>2</td>\n",
       "      <td>0</td>\n",
       "      <td>2</td>\n",
       "      <td>1</td>\n",
       "    </tr>\n",
       "    <tr>\n",
       "      <th>4</th>\n",
       "      <td>57</td>\n",
       "      <td>zero</td>\n",
       "      <td>zero</td>\n",
       "      <td>120</td>\n",
       "      <td>354</td>\n",
       "      <td>zero</td>\n",
       "      <td>one</td>\n",
       "      <td>163</td>\n",
       "      <td>one</td>\n",
       "      <td>0.6</td>\n",
       "      <td>2</td>\n",
       "      <td>0</td>\n",
       "      <td>2</td>\n",
       "      <td>1</td>\n",
       "    </tr>\n",
       "    <tr>\n",
       "      <th>...</th>\n",
       "      <td>...</td>\n",
       "      <td>...</td>\n",
       "      <td>...</td>\n",
       "      <td>...</td>\n",
       "      <td>...</td>\n",
       "      <td>...</td>\n",
       "      <td>...</td>\n",
       "      <td>...</td>\n",
       "      <td>...</td>\n",
       "      <td>...</td>\n",
       "      <td>...</td>\n",
       "      <td>...</td>\n",
       "      <td>...</td>\n",
       "      <td>...</td>\n",
       "    </tr>\n",
       "    <tr>\n",
       "      <th>298</th>\n",
       "      <td>57</td>\n",
       "      <td>zero</td>\n",
       "      <td>zero</td>\n",
       "      <td>140</td>\n",
       "      <td>241</td>\n",
       "      <td>zero</td>\n",
       "      <td>one</td>\n",
       "      <td>123</td>\n",
       "      <td>one</td>\n",
       "      <td>0.2</td>\n",
       "      <td>1</td>\n",
       "      <td>0</td>\n",
       "      <td>3</td>\n",
       "      <td>0</td>\n",
       "    </tr>\n",
       "    <tr>\n",
       "      <th>299</th>\n",
       "      <td>45</td>\n",
       "      <td>one</td>\n",
       "      <td>three</td>\n",
       "      <td>110</td>\n",
       "      <td>264</td>\n",
       "      <td>zero</td>\n",
       "      <td>one</td>\n",
       "      <td>132</td>\n",
       "      <td>zero</td>\n",
       "      <td>1.2</td>\n",
       "      <td>1</td>\n",
       "      <td>0</td>\n",
       "      <td>3</td>\n",
       "      <td>0</td>\n",
       "    </tr>\n",
       "    <tr>\n",
       "      <th>300</th>\n",
       "      <td>68</td>\n",
       "      <td>one</td>\n",
       "      <td>zero</td>\n",
       "      <td>144</td>\n",
       "      <td>193</td>\n",
       "      <td>one</td>\n",
       "      <td>one</td>\n",
       "      <td>141</td>\n",
       "      <td>zero</td>\n",
       "      <td>3.4</td>\n",
       "      <td>1</td>\n",
       "      <td>2</td>\n",
       "      <td>3</td>\n",
       "      <td>0</td>\n",
       "    </tr>\n",
       "    <tr>\n",
       "      <th>301</th>\n",
       "      <td>57</td>\n",
       "      <td>one</td>\n",
       "      <td>zero</td>\n",
       "      <td>130</td>\n",
       "      <td>131</td>\n",
       "      <td>zero</td>\n",
       "      <td>one</td>\n",
       "      <td>115</td>\n",
       "      <td>one</td>\n",
       "      <td>1.2</td>\n",
       "      <td>1</td>\n",
       "      <td>1</td>\n",
       "      <td>3</td>\n",
       "      <td>0</td>\n",
       "    </tr>\n",
       "    <tr>\n",
       "      <th>302</th>\n",
       "      <td>57</td>\n",
       "      <td>zero</td>\n",
       "      <td>one</td>\n",
       "      <td>130</td>\n",
       "      <td>236</td>\n",
       "      <td>zero</td>\n",
       "      <td>zero</td>\n",
       "      <td>174</td>\n",
       "      <td>zero</td>\n",
       "      <td>0.0</td>\n",
       "      <td>1</td>\n",
       "      <td>1</td>\n",
       "      <td>2</td>\n",
       "      <td>0</td>\n",
       "    </tr>\n",
       "  </tbody>\n",
       "</table>\n",
       "<p>303 rows × 14 columns</p>\n",
       "</div>"
      ],
      "text/plain": [
       "     age   sex     cp  trtbps  chol   fbs restecg  thalachh  exng  oldpeak  \\\n",
       "0     63   one  three     145   233   one    zero       150  zero      2.3   \n",
       "1     37   one    two     130   250  zero     one       187  zero      3.5   \n",
       "2     41  zero    one     130   204  zero    zero       172  zero      1.4   \n",
       "3     56   one    one     120   236  zero     one       178  zero      0.8   \n",
       "4     57  zero   zero     120   354  zero     one       163   one      0.6   \n",
       "..   ...   ...    ...     ...   ...   ...     ...       ...   ...      ...   \n",
       "298   57  zero   zero     140   241  zero     one       123   one      0.2   \n",
       "299   45   one  three     110   264  zero     one       132  zero      1.2   \n",
       "300   68   one   zero     144   193   one     one       141  zero      3.4   \n",
       "301   57   one   zero     130   131  zero     one       115   one      1.2   \n",
       "302   57  zero    one     130   236  zero    zero       174  zero      0.0   \n",
       "\n",
       "     slp  caa  thall  output  \n",
       "0      0    0      1       1  \n",
       "1      0    0      2       1  \n",
       "2      2    0      2       1  \n",
       "3      2    0      2       1  \n",
       "4      2    0      2       1  \n",
       "..   ...  ...    ...     ...  \n",
       "298    1    0      3       0  \n",
       "299    1    0      3       0  \n",
       "300    1    2      3       0  \n",
       "301    1    1      3       0  \n",
       "302    1    1      2       0  \n",
       "\n",
       "[303 rows x 14 columns]"
      ]
     },
     "execution_count": 121,
     "metadata": {},
     "output_type": "execute_result"
    }
   ],
   "source": [
    "#1.4\n",
    "def change_to_cat(column_name):\n",
    "    for i in range(len(df[column_name])):\n",
    "        if df[column_name][i] == 0:\n",
    "            df[column_name][i] = \"zero\"\n",
    "        elif df[column_name][i] == 1:\n",
    "            df[column_name][i] = \"one\"\n",
    "        elif df[column_name][i] == 2:\n",
    "            df[column_name][i] = \"two\"\n",
    "        elif df[column_name][i] == 3:\n",
    "            df[column_name][i] = \"three\"\n",
    "        elif df[column_name][i] == 4:\n",
    "            df[column_name][i] = \"four\"\n",
    "change_to_cat('sex')\n",
    "change_to_cat('fbs')\n",
    "change_to_cat('restecg')\n",
    "change_to_cat('exng')\n",
    "change_to_cat('cp')\n",
    "df"
   ]
  },
  {
   "cell_type": "code",
   "execution_count": 122,
   "id": "2bd023b4-e44e-44e6-be2a-5a7712dc166a",
   "metadata": {},
   "outputs": [
    {
     "name": "stdout",
     "output_type": "stream",
     "text": [
      "Optimization terminated successfully.\n",
      "         Current function value: 0.345478\n",
      "         Iterations 7\n"
     ]
    },
    {
     "data": {
      "text/plain": [
       "Intercept          2.257239\n",
       "sex[T.zero]        1.766108\n",
       "cp[T.three]        0.959423\n",
       "cp[T.two]          0.844761\n",
       "cp[T.zero]        -1.192502\n",
       "fbs[T.zero]        0.011093\n",
       "restecg[T.two]    -0.836521\n",
       "restecg[T.zero]   -0.497028\n",
       "exng[T.zero]       0.902581\n",
       "age               -0.003799\n",
       "trtbps            -0.017800\n",
       "chol              -0.004911\n",
       "thalachh           0.022030\n",
       "oldpeak           -0.495638\n",
       "slp                0.578350\n",
       "caa               -0.789806\n",
       "thall             -0.887500\n",
       "dtype: float64"
      ]
     },
     "execution_count": 122,
     "metadata": {},
     "output_type": "execute_result"
    }
   ],
   "source": [
    "#1.4 cont\n",
    "m = smf.logit(\"output ~ age + sex + cp + trtbps + chol + fbs + restecg + thalachh + exng + oldpeak + slp + caa + thall\", data=df).fit()\n",
    "m.params"
   ]
  },
  {
   "cell_type": "code",
   "execution_count": 123,
   "id": "8222f96a-c5c8-4a7b-941e-c60bb40da7b9",
   "metadata": {},
   "outputs": [
    {
     "data": {
      "text/html": [
       "<table class=\"simpletable\">\n",
       "<caption>Logit Marginal Effects</caption>\n",
       "<tr>\n",
       "  <th>Dep. Variable:</th> <td>output</td> \n",
       "</tr>\n",
       "<tr>\n",
       "  <th>Method:</th>         <td>dydx</td>  \n",
       "</tr>\n",
       "<tr>\n",
       "  <th>At:</th>            <td>overall</td>\n",
       "</tr>\n",
       "</table>\n",
       "<table class=\"simpletable\">\n",
       "<tr>\n",
       "         <th></th>            <th>dy/dx</th>    <th>std err</th>      <th>z</th>      <th>P>|z|</th>  <th>[0.025</th>    <th>0.975]</th>  \n",
       "</tr>\n",
       "<tr>\n",
       "  <th>sex[T.zero]</th>     <td>    0.1920</td> <td>    0.048</td> <td>    4.013</td> <td> 0.000</td> <td>    0.098</td> <td>    0.286</td>\n",
       "</tr>\n",
       "<tr>\n",
       "  <th>cp[T.three]</th>     <td>    0.1043</td> <td>    0.080</td> <td>    1.311</td> <td> 0.190</td> <td>   -0.052</td> <td>    0.260</td>\n",
       "</tr>\n",
       "<tr>\n",
       "  <th>cp[T.two]</th>       <td>    0.0918</td> <td>    0.064</td> <td>    1.425</td> <td> 0.154</td> <td>   -0.034</td> <td>    0.218</td>\n",
       "</tr>\n",
       "<tr>\n",
       "  <th>cp[T.zero]</th>      <td>   -0.1297</td> <td>    0.057</td> <td>   -2.266</td> <td> 0.023</td> <td>   -0.242</td> <td>   -0.018</td>\n",
       "</tr>\n",
       "<tr>\n",
       "  <th>fbs[T.zero]</th>     <td>    0.0012</td> <td>    0.059</td> <td>    0.021</td> <td> 0.984</td> <td>   -0.114</td> <td>    0.116</td>\n",
       "</tr>\n",
       "<tr>\n",
       "  <th>restecg[T.two]</th>  <td>   -0.0910</td> <td>    0.242</td> <td>   -0.377</td> <td> 0.706</td> <td>   -0.564</td> <td>    0.382</td>\n",
       "</tr>\n",
       "<tr>\n",
       "  <th>restecg[T.zero]</th> <td>   -0.0540</td> <td>    0.039</td> <td>   -1.383</td> <td> 0.167</td> <td>   -0.131</td> <td>    0.023</td>\n",
       "</tr>\n",
       "<tr>\n",
       "  <th>exng[T.zero]</th>    <td>    0.0981</td> <td>    0.044</td> <td>    2.237</td> <td> 0.025</td> <td>    0.012</td> <td>    0.184</td>\n",
       "</tr>\n",
       "<tr>\n",
       "  <th>age</th>             <td>   -0.0004</td> <td>    0.003</td> <td>   -0.163</td> <td> 0.871</td> <td>   -0.005</td> <td>    0.005</td>\n",
       "</tr>\n",
       "<tr>\n",
       "  <th>trtbps</th>          <td>   -0.0019</td> <td>    0.001</td> <td>   -1.736</td> <td> 0.083</td> <td>   -0.004</td> <td>    0.000</td>\n",
       "</tr>\n",
       "<tr>\n",
       "  <th>chol</th>            <td>   -0.0005</td> <td>    0.000</td> <td>   -1.285</td> <td> 0.199</td> <td>   -0.001</td> <td>    0.000</td>\n",
       "</tr>\n",
       "<tr>\n",
       "  <th>thalachh</th>        <td>    0.0024</td> <td>    0.001</td> <td>    2.150</td> <td> 0.032</td> <td>    0.000</td> <td>    0.005</td>\n",
       "</tr>\n",
       "<tr>\n",
       "  <th>oldpeak</th>         <td>   -0.0539</td> <td>    0.023</td> <td>   -2.322</td> <td> 0.020</td> <td>   -0.099</td> <td>   -0.008</td>\n",
       "</tr>\n",
       "<tr>\n",
       "  <th>slp</th>             <td>    0.0629</td> <td>    0.038</td> <td>    1.652</td> <td> 0.098</td> <td>   -0.012</td> <td>    0.137</td>\n",
       "</tr>\n",
       "<tr>\n",
       "  <th>caa</th>             <td>   -0.0859</td> <td>    0.019</td> <td>   -4.533</td> <td> 0.000</td> <td>   -0.123</td> <td>   -0.049</td>\n",
       "</tr>\n",
       "<tr>\n",
       "  <th>thall</th>           <td>   -0.0965</td> <td>    0.030</td> <td>   -3.226</td> <td> 0.001</td> <td>   -0.155</td> <td>   -0.038</td>\n",
       "</tr>\n",
       "</table>"
      ],
      "text/plain": [
       "<class 'statsmodels.iolib.summary.Summary'>\n",
       "\"\"\"\n",
       "        Logit Marginal Effects       \n",
       "=====================================\n",
       "Dep. Variable:                 output\n",
       "Method:                          dydx\n",
       "At:                           overall\n",
       "===================================================================================\n",
       "                     dy/dx    std err          z      P>|z|      [0.025      0.975]\n",
       "-----------------------------------------------------------------------------------\n",
       "sex[T.zero]         0.1920      0.048      4.013      0.000       0.098       0.286\n",
       "cp[T.three]         0.1043      0.080      1.311      0.190      -0.052       0.260\n",
       "cp[T.two]           0.0918      0.064      1.425      0.154      -0.034       0.218\n",
       "cp[T.zero]         -0.1297      0.057     -2.266      0.023      -0.242      -0.018\n",
       "fbs[T.zero]         0.0012      0.059      0.021      0.984      -0.114       0.116\n",
       "restecg[T.two]     -0.0910      0.242     -0.377      0.706      -0.564       0.382\n",
       "restecg[T.zero]    -0.0540      0.039     -1.383      0.167      -0.131       0.023\n",
       "exng[T.zero]        0.0981      0.044      2.237      0.025       0.012       0.184\n",
       "age                -0.0004      0.003     -0.163      0.871      -0.005       0.005\n",
       "trtbps             -0.0019      0.001     -1.736      0.083      -0.004       0.000\n",
       "chol               -0.0005      0.000     -1.285      0.199      -0.001       0.000\n",
       "thalachh            0.0024      0.001      2.150      0.032       0.000       0.005\n",
       "oldpeak            -0.0539      0.023     -2.322      0.020      -0.099      -0.008\n",
       "slp                 0.0629      0.038      1.652      0.098      -0.012       0.137\n",
       "caa                -0.0859      0.019     -4.533      0.000      -0.123      -0.049\n",
       "thall              -0.0965      0.030     -3.226      0.001      -0.155      -0.038\n",
       "===================================================================================\n",
       "\"\"\""
      ]
     },
     "execution_count": 123,
     "metadata": {},
     "output_type": "execute_result"
    }
   ],
   "source": [
    "#1.5\n",
    "me = m.get_margeff().summary()\n",
    "me"
   ]
  },
  {
   "cell_type": "code",
   "execution_count": 124,
   "id": "d7a8ef8b-e167-46d1-9941-9d74959b3040",
   "metadata": {},
   "outputs": [],
   "source": [
    "#1.6\n",
    "#a) Age is not statistically significant in predicting output\n",
    "#b) Sex does seem to be significant\n",
    "#c) The reference category is cp[1], cp[3] and cp[2] are highly associated, but not statistically significant, while cp[0] is \n",
    "#the lowest in terms of association, but is significant\n",
    "#d) thall, caa, and oldpeak are all associated with a lower risk of heart attacks. These all intuitevly make sense"
   ]
  },
  {
   "cell_type": "code",
   "execution_count": 125,
   "id": "ac9f0723-fae7-419f-9973-2456aa43e5c8",
   "metadata": {},
   "outputs": [
    {
     "name": "stdout",
     "output_type": "stream",
     "text": [
      "Optimization terminated successfully.\n",
      "         Current function value: 0.644412\n",
      "         Iterations 5\n"
     ]
    },
    {
     "data": {
      "text/html": [
       "<table class=\"simpletable\">\n",
       "<caption>Logit Marginal Effects</caption>\n",
       "<tr>\n",
       "  <th>Dep. Variable:</th> <td>output</td> \n",
       "</tr>\n",
       "<tr>\n",
       "  <th>Method:</th>         <td>dydx</td>  \n",
       "</tr>\n",
       "<tr>\n",
       "  <th>At:</th>            <td>overall</td>\n",
       "</tr>\n",
       "</table>\n",
       "<table class=\"simpletable\">\n",
       "<tr>\n",
       "           <th></th>             <th>dy/dx</th>    <th>std err</th>      <th>z</th>      <th>P>|z|</th>  <th>[0.025</th>    <th>0.975]</th>  \n",
       "</tr>\n",
       "<tr>\n",
       "  <th>age1[T.41-56]</th>      <td>   -0.0702</td> <td>    0.137</td> <td>   -0.511</td> <td> 0.609</td> <td>   -0.339</td> <td>    0.199</td>\n",
       "</tr>\n",
       "<tr>\n",
       "  <th>age1[T.55-70]</th>      <td>   -0.3440</td> <td>    0.131</td> <td>   -2.635</td> <td> 0.008</td> <td>   -0.600</td> <td>   -0.088</td>\n",
       "</tr>\n",
       "<tr>\n",
       "  <th>age1[T.71 or more]</th> <td>   -0.1568</td> <td>    0.195</td> <td>   -0.803</td> <td> 0.422</td> <td>   -0.539</td> <td>    0.226</td>\n",
       "</tr>\n",
       "</table>"
      ],
      "text/plain": [
       "<class 'statsmodels.iolib.summary.Summary'>\n",
       "\"\"\"\n",
       "        Logit Marginal Effects       \n",
       "=====================================\n",
       "Dep. Variable:                 output\n",
       "Method:                          dydx\n",
       "At:                           overall\n",
       "======================================================================================\n",
       "                        dy/dx    std err          z      P>|z|      [0.025      0.975]\n",
       "--------------------------------------------------------------------------------------\n",
       "age1[T.41-56]         -0.0702      0.137     -0.511      0.609      -0.339       0.199\n",
       "age1[T.55-70]         -0.3440      0.131     -2.635      0.008      -0.600      -0.088\n",
       "age1[T.71 or more]    -0.1568      0.195     -0.803      0.422      -0.539       0.226\n",
       "======================================================================================\n",
       "\"\"\""
      ]
     },
     "execution_count": 125,
     "metadata": {},
     "output_type": "execute_result"
    }
   ],
   "source": [
    "#1.7\n",
    "df[\"age1\"] = pd.cut(df.age,\n",
    "                      bins = [0, 40, 55, 70, 100],\n",
    "                      labels = [\"0-40\", \"41-56\", \"55-70\", \"71 or more\"],\n",
    "                      right=False)\n",
    "df.head(2)\n",
    "m1 = smf.logit(\"output ~ age1\", data = df).fit()\n",
    "m1.get_margeff().summary()\n",
    "#The age group 0-30 is the reference category"
   ]
  },
  {
   "cell_type": "code",
   "execution_count": 126,
   "id": "dae0ffc6-ecfa-453a-a73e-f0e7f84c1692",
   "metadata": {},
   "outputs": [],
   "source": [
    "#1.8\n",
    "#Contrary to my initial thoughts, the probability of heart attacks seems to be decreasing as age goes up.\n",
    "# I think that because of the fact that the majority of people in this group were experiencing chest pain, age becomes\n",
    "# less of a factor because older people may be more concerned with taking care of these problems, while younger\n",
    "# people may believe the fallacy that \"it can't happen to them yet\". This however, is just a guess"
   ]
  },
  {
   "cell_type": "code",
   "execution_count": 127,
   "id": "fbde5e1e-ce39-4932-9bf6-ea6397ea6eb9",
   "metadata": {},
   "outputs": [
    {
     "name": "stdout",
     "output_type": "stream",
     "text": [
      "0     0.718029\n",
      "1     0.719764\n",
      "2     0.969094\n",
      "3     0.928890\n",
      "4     0.806307\n",
      "5     0.746502\n",
      "6     0.860697\n",
      "7     0.867796\n",
      "8     0.829690\n",
      "9     0.938545\n",
      "10    0.603322\n",
      "dtype: float64\n"
     ]
    }
   ],
   "source": [
    "#1.9\n",
    "phat = m.predict(df)\n",
    "print(phat.loc[:10])"
   ]
  },
  {
   "cell_type": "code",
   "execution_count": 128,
   "id": "9ee43cf2-25f9-47e8-bd77-04002f4be9b0",
   "metadata": {},
   "outputs": [
    {
     "name": "stdout",
     "output_type": "stream",
     "text": [
      "Series([], dtype: float64)\n"
     ]
    }
   ],
   "source": [
    "#1.9 cont\n",
    "#adding a new row\n",
    "df.loc[len(df.index)] = [60, 'one', 'two', 125, 250, 'one', 'two',df.thalachh.mean(), 'one',df.oldpeak.mean(), df.slp.mean(), 2, df.thall.mean(), 1, '55-70']\n",
    "phat = m.predict(df)\n",
    "print(phat.loc[304:304])\n",
    "#THis person roughly has a 18.8887 of having a heart attack."
   ]
  },
  {
   "cell_type": "code",
   "execution_count": 129,
   "id": "7dd88f4d-c8c4-47a7-9f80-248a1e3c1520",
   "metadata": {},
   "outputs": [
    {
     "data": {
      "text/plain": [
       "array([[108,  30],\n",
       "       [ 15, 151]])"
      ]
     },
     "execution_count": 129,
     "metadata": {},
     "output_type": "execute_result"
    }
   ],
   "source": [
    "#1.9 cont\n",
    "list = []\n",
    "for i in range(len(phat)):\n",
    "    if phat[i] < 0.5:\n",
    "        list.append(0)\n",
    "    else:\n",
    "        list.append(1)\n",
    "confusion_matrix(df.output, list)"
   ]
  },
  {
   "cell_type": "code",
   "execution_count": 130,
   "id": "4b8977f6-8f49-49ed-8851-83af1967079f",
   "metadata": {},
   "outputs": [
    {
     "name": "stdout",
     "output_type": "stream",
     "text": [
      "0.8519736842105263\n"
     ]
    }
   ],
   "source": [
    "#1.9 cont\n",
    "from sklearn.metrics import accuracy_score\n",
    "print(accuracy_score(df.output, list))"
   ]
  },
  {
   "cell_type": "markdown",
   "id": "6aad4da4-68e3-40a0-bf5c-8811a0abcbf8",
   "metadata": {},
   "source": [
    "# 2 Heart attack: predictive modeling (50pt)\n",
    "Now let’s construct the same model using sklearn package. Remember that\n",
    "sklearn package requires the matrix of predictor values (X) to be separated from\n",
    "the vector of outcome variable (y). The predictor values must be a matrix, not\n",
    "a vector. See Python Notes 11.2.2 for how to use sklearn for logistic regression.\n"
   ]
  },
  {
   "cell_type": "code",
   "execution_count": 200,
   "id": "ffd2b55e-d383-4023-ad7a-c0705bdad73d",
   "metadata": {},
   "outputs": [
    {
     "name": "stdout",
     "output_type": "stream",
     "text": [
      "Intercept:  [3.41594582]\n",
      "coefficients:  [[-0.0045197  -1.76965133  0.85824128 -0.01939501 -0.00465682  0.03257686\n",
      "   0.465879    0.02339507 -1.00530912 -0.5392668   0.57590954 -0.77728811\n",
      "  -0.89830325]]\n"
     ]
    }
   ],
   "source": [
    "# 2.1\n",
    "df = pd.read_csv(\"./data/heart.csv\")\n",
    "from sklearn.linear_model import LogisticRegression\n",
    "\n",
    "m3 = LogisticRegression(max_iter=5000, penalty=\"none\")\n",
    "\n",
    "X = df.iloc[:,0:13]\n",
    "y = df.output\n",
    "m3.fit(X,y)\n",
    "\n",
    "print('Intercept: ', m.intercept_)\n",
    "print('coefficients: ', m.coef_)"
   ]
  },
  {
   "cell_type": "markdown",
   "id": "df22f29a-14ca-48a6-9de0-6c70e7339092",
   "metadata": {},
   "source": [
    "2. Predict the probability of having a heart attack P(output = 1|x) for everyone in data. Print out the first 10 probabilities. The results should be\n",
    "very similar to what you got in 1.9 above."
   ]
  },
  {
   "cell_type": "code",
   "execution_count": 205,
   "id": "29ddc961-b57f-491b-97c3-50fd21d53ce1",
   "metadata": {},
   "outputs": [
    {
     "data": {
      "text/plain": [
       "array([[0.19120757, 0.80879243],\n",
       "       [0.33923417, 0.66076583],\n",
       "       [0.03762526, 0.96237474],\n",
       "       [0.08478637, 0.91521363],\n",
       "       [0.1842181 , 0.8157819 ],\n",
       "       [0.23694353, 0.76305647],\n",
       "       [0.16876858, 0.83123142],\n",
       "       [0.15140035, 0.84859965],\n",
       "       [0.20737237, 0.79262763],\n",
       "       [0.07998402, 0.92001598],\n",
       "       [0.37962684, 0.62037316]])"
      ]
     },
     "execution_count": 205,
     "metadata": {},
     "output_type": "execute_result"
    }
   ],
   "source": [
    "phat2 =  m3.predict_proba(X)\n",
    "phat2[:11]"
   ]
  },
  {
   "cell_type": "markdown",
   "id": "1f96cec3-13f0-4007-bdc0-8fe13b5b7145",
   "metadata": {},
   "source": [
    "3. Predict the label (outcome)—that is, whether someone has heart attack\n",
    "or not, instead of predicting the probability. Print out the first 10 labels."
   ]
  },
  {
   "cell_type": "code",
   "execution_count": 202,
   "id": "414f39cd-62d6-4616-9eb9-e843d53e659e",
   "metadata": {},
   "outputs": [
    {
     "data": {
      "text/plain": [
       "array([1, 1, 1, 1, 1, 1, 1, 1, 1, 1])"
      ]
     },
     "execution_count": 202,
     "metadata": {},
     "output_type": "execute_result"
    }
   ],
   "source": [
    "yhat = m3.predict(X)\n",
    "yhat[:10]"
   ]
  },
  {
   "cell_type": "markdown",
   "id": "16ca87a6-c1bd-4962-bc33-c412c63391c4",
   "metadata": {},
   "source": [
    "4. You can predict labels in two ways: you can use .predict method, or\n",
    "alternatively, you can compute probabilities and find where they are larger\n",
    "than 0.5.\n",
    "Show that both methods give you the same results"
   ]
  },
  {
   "cell_type": "code",
   "execution_count": 234,
   "id": "e08b996d-1204-4bf9-9ca2-5d2c9d7a59e5",
   "metadata": {},
   "outputs": [
    {
     "data": {
      "text/plain": [
       "0       True\n",
       "1       True\n",
       "2       True\n",
       "3       True\n",
       "4       True\n",
       "       ...  \n",
       "298    False\n",
       "299    False\n",
       "300    False\n",
       "301    False\n",
       "302    False\n",
       "Name: output, Length: 303, dtype: bool"
      ]
     },
     "execution_count": 234,
     "metadata": {},
     "output_type": "execute_result"
    }
   ],
   "source": [
    "(y > 0.5)"
   ]
  },
  {
   "cell_type": "code",
   "execution_count": null,
   "id": "74d1a7f7-8bf1-4fe3-a837-530f2bce47c0",
   "metadata": {},
   "outputs": [],
   "source": []
  },
  {
   "cell_type": "code",
   "execution_count": 237,
   "id": "d1b80e75-9288-4fbd-87f6-464cb06e5ad0",
   "metadata": {},
   "outputs": [
    {
     "data": {
      "text/plain": [
       "0"
      ]
     },
     "execution_count": 237,
     "metadata": {},
     "output_type": "execute_result"
    }
   ],
   "source": [
    "y[300]"
   ]
  },
  {
   "cell_type": "markdown",
   "id": "17e2642c-5125-48aa-b90f-4bff9425c1a7",
   "metadata": {},
   "source": [
    "5. Display the confusion matrix. Do you get the same matrix as in 1.9?"
   ]
  },
  {
   "cell_type": "code",
   "execution_count": 206,
   "id": "9815c768-364d-443b-8ab0-9f23fd96fe37",
   "metadata": {},
   "outputs": [
    {
     "data": {
      "text/plain": [
       "array([[106,  32],\n",
       "       [ 14, 151]])"
      ]
     },
     "execution_count": 206,
     "metadata": {},
     "output_type": "execute_result"
    }
   ],
   "source": [
    "from sklearn.metrics import confusion_matrix\n",
    "\n",
    "confusion_matrix(y, yhat)"
   ]
  },
  {
   "cell_type": "markdown",
   "id": "974cfefc-55ee-4ad3-bc63-9a95cfeebb5d",
   "metadata": {},
   "source": [
    "It's slightly different. There are 2 less true negatives in the first row, but the second row is the exact same as the confusion matrix in 1.9"
   ]
  },
  {
   "cell_type": "markdown",
   "id": "8346a4f3-585a-4b64-a723-e7257f28ef5f",
   "metadata": {},
   "source": [
    "6. Compute and display precision and recall. What do you think, which\n",
    "measure–accuracy, precision, recall, or F-score should we try to improve\n",
    "in order to make this model more applicable in medicine? Explain!\n"
   ]
  },
  {
   "cell_type": "code",
   "execution_count": 210,
   "id": "bd02e626-4d95-4f23-95ba-ec7b863f8814",
   "metadata": {},
   "outputs": [
    {
     "name": "stdout",
     "output_type": "stream",
     "text": [
      "precision score:  0.825136612021858\n",
      "recall score:  0.9151515151515152\n"
     ]
    }
   ],
   "source": [
    "from sklearn.metrics import precision_score\n",
    "from sklearn.metrics import recall_score\n",
    "\n",
    "print('precision score: ', precision_score(y, yhat))\n",
    "print('recall score: ',recall_score(y, yhat))\n"
   ]
  },
  {
   "cell_type": "markdown",
   "id": "2f5dc37c-863d-43ee-8d83-f0946f8443cd",
   "metadata": {},
   "source": [
    "To make this measure-accuracy better, we should probably try to use recall because recall is the TP/(TP + FN). Since we are talking about predicting a heart attack, there is a high cost associated with the false negative, and recall is better for handling false negatives rather than precision score."
   ]
  },
  {
   "cell_type": "markdown",
   "id": "b6f3029b-d365-44ec-9b1e-5cc75961cbab",
   "metadata": {},
   "source": [
    "7. Now imagine we create another very simple model (“naive model”) that\n",
    "predicts everyone the same result (attack or no attack), whichever category\n",
    "is more common in data (the majority category).\n",
    "How would the confusion matrix of this model look like? What are the\n",
    "corresponding accuracy, precision and recall? Explain!\n",
    "Note: you should not fit any model here, you are able to compute these\n",
    "all these values manually with just a calculator!\n"
   ]
  },
  {
   "cell_type": "markdown",
   "id": "c70fec43-eefc-4002-b332-3f7f0490a8c7",
   "metadata": {},
   "source": [
    "Let's say that our naive model predicts that almost everyone will get a heart attack. The confusion matrix looks like this:\n",
    "\n",
    "|        |          |          | Predicted |\n",
    "|:------:|:--------:|:--------:|:---------:|\n",
    "|        |          | Positive |  Negative |\n",
    "| Actual | Positive |    138   |     0     |\n",
    "|        | Negative |    165   |     0     |\n",
    "\n",
    "The precision of this model is: 138/(138+165), which is about 45.6% precision.\n",
    "\n",
    "The recall of this model is: 138/(138+0), which is 100% recall."
   ]
  },
  {
   "cell_type": "markdown",
   "id": "759c79bf-5582-4e48-b525-dd7c6c528edf",
   "metadata": {},
   "source": [
    "# How long did we spend?\n",
    "It took us about 6 hours on the problem set"
   ]
  },
  {
   "cell_type": "code",
   "execution_count": null,
   "id": "1c2a3f11-ec2f-453d-8d4e-c87ac18e2e8f",
   "metadata": {},
   "outputs": [],
   "source": []
  }
 ],
 "metadata": {
  "kernelspec": {
   "display_name": "Python 3 (ipykernel)",
   "language": "python",
   "name": "python3"
  },
  "language_info": {
   "codemirror_mode": {
    "name": "ipython",
    "version": 3
   },
   "file_extension": ".py",
   "mimetype": "text/x-python",
   "name": "python",
   "nbconvert_exporter": "python",
   "pygments_lexer": "ipython3",
   "version": "3.9.7"
  }
 },
 "nbformat": 4,
 "nbformat_minor": 5
}
